{
 "cells": [
  {
   "cell_type": "markdown",
   "id": "e775f5ff",
   "metadata": {},
   "source": [
    "# Como Criar Bots no Python ??"
   ]
  },
  {
   "cell_type": "markdown",
   "id": "25c84e51",
   "metadata": {},
   "source": [
    "### Automação sem dúvida é uma palavra chave no mundo da tecnologia da informação, diariamente nos precisamos automatizar tarefas que repetimos com frequência, por sorte, o pyhton contem ótimas bibliotecas para nos ajudar a tratar esses desafios, essa área é conhecida como automação web, vamos explora-la"
   ]
  },
  {
   "cell_type": "markdown",
   "id": "0c2d9e1e",
   "metadata": {},
   "source": [
    "### Vamos começar explorando um bot que roda no seu computador e não necessita de conexão com internet"
   ]
  },
  {
   "cell_type": "markdown",
   "id": "88e09efc",
   "metadata": {},
   "source": [
    "### Uma biblioteca muito utilizada é a pyautogui"
   ]
  },
  {
   "cell_type": "code",
   "execution_count": 1,
   "id": "b7d891d5",
   "metadata": {},
   "outputs": [],
   "source": [
    "#Vamos supor que queremos um bot para preencher um cadastro com login e senha\n",
    "#vamos utilizar um arquivo excel como exemplo com espaços para preencher\n",
    "#Dowload disponivel no repositorio\n",
    "import pyautogui\n",
    "import time\n",
    "\n",
    "#A cada comando ele espera 1 segundo\n",
    "pyautogui.PAUSE = 1\n",
    "\n",
    "pyautogui.press(\"win\")\n",
    "pyautogui.write(\"Login2.xlsx\")\n",
    "pyautogui.press(\"backspace\")\n",
    "pyautogui.press(\"enter\")\n",
    "\n",
    "#Vamos clicar na posiçaõ do login\n",
    "\n",
    "#Coloquei 2 segundos a mais, para dar tempo de processar o arquivo\n",
    "time.sleep(2)\n",
    "pyautogui.click(x=560,y=235)\n",
    "pyautogui.write(\"Fernandes\")\n",
    "\n",
    "#Vamos clicar na posiçaõ da senha\n",
    "pyautogui.click(x=574,y=305)\n",
    "pyautogui.write(\"14567\")\n",
    "\n",
    "#Vamos clicar em enter\n",
    "pyautogui.click(x=444,y=420)\n",
    "\n",
    "#OBS:Cada computador pode ter coordenadas diferentes"
   ]
  },
  {
   "cell_type": "markdown",
   "id": "ceffcc88",
   "metadata": {},
   "source": [
    "# Podemos tambem criar bots na internet\n",
    "\n",
    "## Uma ferramenta muito utilizada nesse ramo de automação web é a biblioteca Selenium, podemos realizar nossas automações com ela, é importante ressaltar que para utiliza-la é necessario baixar o driver do seu navegador, as referencias para procurar estão no comentario abaixo, olhe a versão do seu navegador e encontre o driver correspodente"
   ]
  },
  {
   "cell_type": "markdown",
   "id": "290598ef",
   "metadata": {},
   "source": [
    "## Posteriormente, coloque o driver no mesmo local de instalação do python, no caso estamos usando Jupyter, então vamos na pasta do jupyter achamos onde esta o arquivo python e anexamos o driver la"
   ]
  },
  {
   "cell_type": "code",
   "execution_count": null,
   "id": "3978635d",
   "metadata": {},
   "outputs": [],
   "source": [
    "# Chrome -> chromedriver\n",
    "# Firefox -> gechdriver"
   ]
  },
  {
   "cell_type": "code",
   "execution_count": 8,
   "id": "db7a961c",
   "metadata": {},
   "outputs": [],
   "source": [
    "from selenium import webdriver\n",
    "from selenium.webdriver.common.by import By\n",
    "import time\n",
    "\n",
    "#Nosso navegador é google então chamamos ele dessa forma\n",
    "navegador = webdriver.Chrome()\n",
    "#Em seguida vamos dar um \"get\" no link que queremos acessar\n",
    "navegador.get(\"https://login.live.com\")\n",
    "\n",
    "#So isso ja é suficiente para abrir a pagina que quiseres\n",
    "#Estou usando de exemplo a pagina do hotmail, podemos automatizar um processo de login\n",
    "\n",
    "time.sleep(5)  # Espera 5 segundos para garantir que a página carregue completamente\n",
    "\n",
    "#Como dizer onde deve ser clicado? nesse caso queremos preencher o campo do hotmail\n",
    "#Estamos acessando pelo XPATH, podemos pensar nele como um ID pra cada campo do front-end de um site\n",
    "#Ao chegar no site, podemos clicar com o botão direito e depois selecionar a opção inspecionar\n",
    "#Vai aparacer igual na primeira imagem abaixo\n",
    "#Podemos clicar na setinha no topo, perto da opção elements\n",
    "#Em seguida clicamos no item que queremos acessar\n",
    "#Apos isso teremos uma parte do codigo marcado com azul escuro, clicamos com o botão direito e copiamos seu XPATH\n",
    "\n",
    "#Escreve o email e clica em continuar\n",
    "navegador.find_element(By.XPATH, '//*[@id=\"i0116\"]').send_keys(\"email@hotmail.com\")\n",
    "navegador.find_element(By.XPATH, '//*[@id=\"idSIButton9\"]').click()\n",
    "\n",
    "time.sleep(1)\n",
    "\n",
    "#Preenche a senha e termina o login\n",
    "navegador.find_element(By.XPATH, '//*[@id=\"i0118\"]').send_keys(\"senha\")\n",
    "navegador.find_element(By.XPATH, '//*[@id=\"idSIButton9\"]').click()\n",
    "\n"
   ]
  },
  {
   "cell_type": "markdown",
   "id": "333355f1",
   "metadata": {},
   "source": [
    "<img src=\"Captura de tela 2024-05-19 234333.png\" alt=\"Descrição da imagem\">\n"
   ]
  },
  {
   "cell_type": "markdown",
   "id": "70d24430",
   "metadata": {},
   "source": [
    "<img src=\"Captura de tela 2024-05-19 235251.png\" alt=\"Descrição da imagem\">\n"
   ]
  },
  {
   "cell_type": "markdown",
   "id": "c94a3685",
   "metadata": {},
   "source": [
    "## Com poucos ingredientes ja é possivel automatizar processos simples "
   ]
  },
  {
   "cell_type": "code",
   "execution_count": 21,
   "id": "df81214d",
   "metadata": {},
   "outputs": [],
   "source": [
    "#Para mais pesquisas \n",
    "\n",
    "#Links ->\n",
    "# https://www.selenium.dev/\n",
    "# https://pypi.org/project/PyAutoGUI/"
   ]
  }
 ],
 "metadata": {
  "kernelspec": {
   "display_name": "Python 3 (ipykernel)",
   "language": "python",
   "name": "python3"
  },
  "language_info": {
   "codemirror_mode": {
    "name": "ipython",
    "version": 3
   },
   "file_extension": ".py",
   "mimetype": "text/x-python",
   "name": "python",
   "nbconvert_exporter": "python",
   "pygments_lexer": "ipython3",
   "version": "3.11.4"
  }
 },
 "nbformat": 4,
 "nbformat_minor": 5
}
